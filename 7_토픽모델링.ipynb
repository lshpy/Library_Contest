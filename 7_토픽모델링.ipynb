{
 "cells": [
  {
   "cell_type": "code",
   "execution_count": 2,
   "id": "063d6230-85cb-4d8b-9ff1-12727237cc69",
   "metadata": {},
   "outputs": [
    {
     "name": "stdout",
     "output_type": "stream",
     "text": [
      "Requirement already satisfied: tomotopy in /Users/seunghyun/anaconda3/lib/python3.11/site-packages (0.13.0)\n",
      "Requirement already satisfied: numpy<2,>=1.11.0 in /Users/seunghyun/anaconda3/lib/python3.11/site-packages (from tomotopy) (1.24.3)\n",
      "Requirement already satisfied: pyldavis in /Users/seunghyun/anaconda3/lib/python3.11/site-packages (3.4.1)\n",
      "Requirement already satisfied: numpy>=1.24.2 in /Users/seunghyun/anaconda3/lib/python3.11/site-packages (from pyldavis) (1.24.3)\n",
      "Requirement already satisfied: scipy in /Users/seunghyun/anaconda3/lib/python3.11/site-packages (from pyldavis) (1.10.1)\n",
      "Requirement already satisfied: pandas>=2.0.0 in /Users/seunghyun/anaconda3/lib/python3.11/site-packages (from pyldavis) (2.2.2)\n",
      "Requirement already satisfied: joblib>=1.2.0 in /Users/seunghyun/anaconda3/lib/python3.11/site-packages (from pyldavis) (1.2.0)\n",
      "Requirement already satisfied: jinja2 in /Users/seunghyun/anaconda3/lib/python3.11/site-packages (from pyldavis) (3.1.2)\n",
      "Requirement already satisfied: numexpr in /Users/seunghyun/anaconda3/lib/python3.11/site-packages (from pyldavis) (2.8.4)\n",
      "Requirement already satisfied: funcy in /Users/seunghyun/anaconda3/lib/python3.11/site-packages (from pyldavis) (2.0)\n",
      "Requirement already satisfied: scikit-learn>=1.0.0 in /Users/seunghyun/anaconda3/lib/python3.11/site-packages (from pyldavis) (1.2.2)\n",
      "Requirement already satisfied: gensim in /Users/seunghyun/anaconda3/lib/python3.11/site-packages (from pyldavis) (4.3.0)\n",
      "Requirement already satisfied: setuptools in /Users/seunghyun/anaconda3/lib/python3.11/site-packages (from pyldavis) (67.8.0)\n",
      "Requirement already satisfied: python-dateutil>=2.8.2 in /Users/seunghyun/anaconda3/lib/python3.11/site-packages (from pandas>=2.0.0->pyldavis) (2.8.2)\n",
      "Requirement already satisfied: pytz>=2020.1 in /Users/seunghyun/anaconda3/lib/python3.11/site-packages (from pandas>=2.0.0->pyldavis) (2022.7)\n",
      "Requirement already satisfied: tzdata>=2022.7 in /Users/seunghyun/anaconda3/lib/python3.11/site-packages (from pandas>=2.0.0->pyldavis) (2024.1)\n",
      "Requirement already satisfied: threadpoolctl>=2.0.0 in /Users/seunghyun/anaconda3/lib/python3.11/site-packages (from scikit-learn>=1.0.0->pyldavis) (2.2.0)\n",
      "Requirement already satisfied: smart-open>=1.8.1 in /Users/seunghyun/anaconda3/lib/python3.11/site-packages (from gensim->pyldavis) (5.2.1)\n",
      "Requirement already satisfied: FuzzyTM>=0.4.0 in /Users/seunghyun/anaconda3/lib/python3.11/site-packages (from gensim->pyldavis) (2.0.9)\n",
      "Requirement already satisfied: MarkupSafe>=2.0 in /Users/seunghyun/anaconda3/lib/python3.11/site-packages (from jinja2->pyldavis) (2.1.1)\n",
      "Requirement already satisfied: pyfume in /Users/seunghyun/anaconda3/lib/python3.11/site-packages (from FuzzyTM>=0.4.0->gensim->pyldavis) (0.3.1)\n",
      "Requirement already satisfied: six>=1.5 in /Users/seunghyun/anaconda3/lib/python3.11/site-packages (from python-dateutil>=2.8.2->pandas>=2.0.0->pyldavis) (1.16.0)\n",
      "Requirement already satisfied: simpful in /Users/seunghyun/anaconda3/lib/python3.11/site-packages (from pyfume->FuzzyTM>=0.4.0->gensim->pyldavis) (2.12.0)\n",
      "Requirement already satisfied: fst-pso in /Users/seunghyun/anaconda3/lib/python3.11/site-packages (from pyfume->FuzzyTM>=0.4.0->gensim->pyldavis) (1.8.1)\n",
      "Requirement already satisfied: typing-extensions in /Users/seunghyun/anaconda3/lib/python3.11/site-packages (from pyfume->FuzzyTM>=0.4.0->gensim->pyldavis) (4.12.2)\n",
      "Requirement already satisfied: miniful in /Users/seunghyun/anaconda3/lib/python3.11/site-packages (from fst-pso->pyfume->FuzzyTM>=0.4.0->gensim->pyldavis) (0.0.6)\n",
      "Requirement already satisfied: numpy in /Users/seunghyun/anaconda3/lib/python3.11/site-packages (1.24.3)\n"
     ]
    }
   ],
   "source": [
    "! pip install tomotopy\n",
    "! pip install pyldavis\n",
    "! pip install numpy"
   ]
  },
  {
   "cell_type": "code",
   "execution_count": null,
   "id": "86fe8045-1f1b-4dd7-b310-11ce4e3caa3a",
   "metadata": {},
   "outputs": [],
   "source": [
    "import tomotopy as tp   # 토픽모델링 패키지\n",
    "import pyLDAvis       # 시각화 패키지\n",
    "import numpy as np    # 파이썬 계산기\n",
    "import pandas as pd   # 파이썬 엑셀\n",
    "from tqdm import tqdm"
   ]
  }
 ],
 "metadata": {
  "kernelspec": {
   "display_name": "Python 3 (ipykernel)",
   "language": "python",
   "name": "python3"
  },
  "language_info": {
   "codemirror_mode": {
    "name": "ipython",
    "version": 3
   },
   "file_extension": ".py",
   "mimetype": "text/x-python",
   "name": "python",
   "nbconvert_exporter": "python",
   "pygments_lexer": "ipython3",
   "version": "3.11.9"
  }
 },
 "nbformat": 4,
 "nbformat_minor": 5
}
